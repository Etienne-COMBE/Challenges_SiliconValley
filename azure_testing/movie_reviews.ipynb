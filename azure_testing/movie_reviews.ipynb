{
 "cells": [
  {
   "cell_type": "code",
   "execution_count": 57,
   "metadata": {},
   "outputs": [],
   "source": [
    "import os \n",
    "import pandas as pd\n",
    "from azure.ai.textanalytics import TextAnalyticsClient\n",
    "from azure.core.credentials import AzureKeyCredential\n",
    "from dotenv import load_dotenv\n",
    "\n",
    "from nltk.corpus import stopwords"
   ]
  },
  {
   "cell_type": "code",
   "execution_count": 58,
   "metadata": {},
   "outputs": [
    {
     "name": "stderr",
     "output_type": "stream",
     "text": [
      "<ipython-input-58-db55d2964ed7>:2: FutureWarning: The default value of regex will change from True to False in a future version.\n",
      "  data[\"clean_reviews\"] = data.reviews.str.replace(r\"[^A-Za-z]\", \" \").str.lower().str.split().apply(\" \".join)\n"
     ]
    }
   ],
   "source": [
    "data = pd.read_csv(\"../02-Movie-reviews/reviews.csv\")\n",
    "data[\"clean_reviews\"] = data.reviews.str.replace(r\"[^A-Za-z]\", \" \").str.lower().str.split().apply(\" \".join)\n",
    "stop_words = stopwords.words(\"english\")"
   ]
  },
  {
   "cell_type": "code",
   "execution_count": 59,
   "metadata": {},
   "outputs": [],
   "source": [
    "load_dotenv()\n",
    "cog_endpoint = os.getenv(\"COG_SERVICE_ENDPOINT\")\n",
    "cog_key = os.getenv(\"COG_SERVICE_KEY\")"
   ]
  },
  {
   "cell_type": "code",
   "execution_count": 60,
   "metadata": {},
   "outputs": [],
   "source": [
    "credential = AzureKeyCredential(cog_key)"
   ]
  },
  {
   "cell_type": "code",
   "execution_count": 61,
   "metadata": {},
   "outputs": [],
   "source": [
    "client = TextAnalyticsClient(cog_endpoint, credential)"
   ]
  },
  {
   "cell_type": "code",
   "execution_count": 62,
   "metadata": {},
   "outputs": [],
   "source": [
    "data = data[(data.clean_reviews.str.len()) < 5120]"
   ]
  },
  {
   "cell_type": "code",
   "execution_count": 63,
   "metadata": {},
   "outputs": [],
   "source": [
    "def analyze_sentiment_df(string: str):\n",
    "    return client.analyze_sentiment([string])[0].sentiment\n",
    "\n",
    "data[\"pred\"] = data.clean_reviews.apply(analyze_sentiment_df)"
   ]
  },
  {
   "cell_type": "code",
   "execution_count": 64,
   "metadata": {},
   "outputs": [
    {
     "data": {
      "text/plain": [
       "0.6501457725947521"
      ]
     },
     "execution_count": 64,
     "metadata": {},
     "output_type": "execute_result"
    }
   ],
   "source": [
    "from sklearn.metrics import accuracy_score\n",
    "accuracy_score(data.target, data.pred.map({\"negative\": \"neg\", \"positive\": \"pos\"}))"
   ]
  }
 ],
 "metadata": {
  "interpreter": {
   "hash": "f69feb35cbb03d5d7d53a0f8ffdb5b2c42bf41d200031afd3f8c250028675809"
  },
  "kernelspec": {
   "display_name": "Python 3.8.8 64-bit ('base': conda)",
   "language": "python",
   "name": "python3"
  },
  "language_info": {
   "codemirror_mode": {
    "name": "ipython",
    "version": 3
   },
   "file_extension": ".py",
   "mimetype": "text/x-python",
   "name": "python",
   "nbconvert_exporter": "python",
   "pygments_lexer": "ipython3",
   "version": "3.8.8"
  },
  "orig_nbformat": 4
 },
 "nbformat": 4,
 "nbformat_minor": 2
}
